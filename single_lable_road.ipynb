{
 "cells": [
  {
   "cell_type": "code",
   "execution_count": 1,
   "metadata": {},
   "outputs": [
    {
     "name": "stderr",
     "output_type": "stream",
     "text": [
      "Using TensorFlow backend.\n"
     ]
    }
   ],
   "source": [
    "import sys\n",
    "import os\n",
    "import subprocess\n",
    "from six import string_types\n",
    "import numpy as np\n",
    "import pandas as pd\n",
    "import seaborn as sns\n",
    "import matplotlib.pyplot as plt\n",
    "import matplotlib.image as mpimg\n",
    "import scipy\n",
    "from skimage import io\n",
    "from scipy import ndimage\n",
    "from IPython.display import display\n",
    "import cv2\n",
    "from keras.models import Sequential\n",
    "from keras.layers import Input, Dropout, Flatten, Convolution2D, MaxPooling2D, Dense, Activation\n",
    "from keras.optimizers import RMSprop\n",
    "from keras.callbacks import ModelCheckpoint, Callback, EarlyStopping\n",
    "from keras.utils import np_utils\n",
    "from keras import regularizers\n",
    "%matplotlib inline"
   ]
  },
  {
   "cell_type": "code",
   "execution_count": 2,
   "metadata": {
    "collapsed": true
   },
   "outputs": [],
   "source": [
    "PLANET_KAGGLE_ROOT = os.path.abspath(\"/Users/sunchenxi/Desktop/lab/kaggle/amazon/\")\n",
    "PLANET_KAGGLE_JPEG_DIR = os.path.join(PLANET_KAGGLE_ROOT, 'train-jpg')\n",
    "PLANET_KAGGLE_LABEL_CSV = os.path.join(PLANET_KAGGLE_ROOT, 'train_v2.csv')\n",
    "assert os.path.exists(PLANET_KAGGLE_ROOT)\n",
    "assert os.path.exists(PLANET_KAGGLE_JPEG_DIR)\n",
    "assert os.path.exists(PLANET_KAGGLE_LABEL_CSV)"
   ]
  },
  {
   "cell_type": "code",
   "execution_count": 3,
   "metadata": {
    "collapsed": true
   },
   "outputs": [],
   "source": [
    "#读取train set标签\n",
    "labels_df = pd.read_csv(PLANET_KAGGLE_LABEL_CSV)\n",
    "label_list = []\n",
    "for tag_str in labels_df.tags.values:\n",
    "    labels = tag_str.split(' ')\n",
    "    for label in labels:\n",
    "        if label not in label_list:\n",
    "            label_list.append(label)\n",
    "for label in label_list:\n",
    "    labels_df[label] = labels_df['tags'].apply(lambda x: 1 if label in x.split(' ') else 0)"
   ]
  },
  {
   "cell_type": "code",
   "execution_count": 4,
   "metadata": {
    "collapsed": true
   },
   "outputs": [],
   "source": [
    "#获取含有tags标签的n张图片\n",
    "def sample_images(tags, n=None):\n",
    "    \"\"\"Randomly sample n images with the specified tags.\"\"\"\n",
    "    condition = True\n",
    "    if isinstance(tags, string_types): #tag是否是string类型\n",
    "        raise ValueError(\"Pass a list of tags, not a single tag.\")\n",
    "    for tag in tags:\n",
    "        condition = condition & labels_df[tag] == 1\n",
    "    if n is not None:\n",
    "        return labels_df[condition].sample(n)\n",
    "    else:\n",
    "        return labels_df[condition]\n",
    "#获取不含含有tags标签的n张图片\n",
    "def not_sample_images(tags, n=None):\n",
    "    \"\"\"Randomly sample n images with the specified tags.\"\"\"\n",
    "    condition = True\n",
    "    if isinstance(tags, string_types): #tag是否是string类型\n",
    "        raise ValueError(\"Pass a list of tags, not a single tag.\")\n",
    "    for tag in tags:\n",
    "        condition = condition & labels_df[tag] == 0\n",
    "    if n is not None:\n",
    "        return labels_df[condition].sample(n)\n",
    "    else:\n",
    "        return labels_df[condition]\n",
    "def load_image(filename):\n",
    "    '''Look through the directory tree to find the image you specified\n",
    "    (e.g. train_10.tif vs. train_10.jpg)'''\n",
    "    for dirname in os.listdir(PLANET_KAGGLE_ROOT):\n",
    "        path = os.path.abspath(os.path.join(PLANET_KAGGLE_ROOT, dirname, filename))\n",
    "        if os.path.exists(path):\n",
    "            print('Found image {}'.format(path))\n",
    "            return io.imread(path)\n",
    "    print('Load failed: could not find image {}'.format(path))\n",
    " \n",
    " #将图片在数组中的位置变成名称\n",
    "def sample_to_fname(sample_df, row_idx, suffix='jpg'):\n",
    "    '''Given a dataframe of sampled images, get the\n",
    "    corresponding filename.'''\n",
    "    fname = sample_df.get_value(sample_df.index[row_idx], 'image_name')\n",
    "    return '{}.{}'.format(fname, suffix)"
   ]
  },
  {
   "cell_type": "markdown",
   "metadata": {},
   "source": [
    "### 获取含有road的图片,变成三通道"
   ]
  },
  {
   "cell_type": "code",
   "execution_count": 5,
   "metadata": {
    "collapsed": true
   },
   "outputs": [],
   "source": [
    "n=0\n",
    "for i in range(len(labels_df)):\n",
    "    if(labels_df['road'][i]==1):\n",
    "        n=n+1\n",
    "fname=[0]*n\n",
    "s = sample_images(['road'], n=n)\n",
    "for i in range(n):\n",
    "    fname[i]= sample_to_fname(s, i)#获得了文件名\n",
    "road_img=[mpimg.imread(PLANET_KAGGLE_ROOT+'/train-jpg/'+ img) for img in fname[:300]]"
   ]
  },
  {
   "cell_type": "code",
   "execution_count": 6,
   "metadata": {
    "collapsed": true
   },
   "outputs": [],
   "source": [
    "road_img3=[]\n",
    "for i in range(len(road_img)):\n",
    "    for j in range (len(road_img[i])):\n",
    "        for k in range(len(road_img[i][j])):\n",
    "            road_img2=road_img[i][j][k][:3]\n",
    "            road_img3.append(road_img2)\n",
    "road_img3=np.asarray(road_img3).reshape(300,256,256,3)"
   ]
  },
  {
   "cell_type": "markdown",
   "metadata": {},
   "source": [
    "### 获取不含road的图片"
   ]
  },
  {
   "cell_type": "code",
   "execution_count": 7,
   "metadata": {
    "collapsed": true
   },
   "outputs": [],
   "source": [
    "n=0\n",
    "for i in range(len(labels_df)):\n",
    "    if(labels_df['road'][i]==0):\n",
    "        n=n+1\n",
    "fname_not=[0]*n\n",
    "s = not_sample_images(['road'], n=n)\n",
    "for i in range(n):\n",
    "    fname_not[i]= sample_to_fname(s, i)#获得了文件名\n",
    "not_road_img=[mpimg.imread(PLANET_KAGGLE_ROOT+'/train-jpg/'+ img) for img in fname_not[:300]]"
   ]
  },
  {
   "cell_type": "code",
   "execution_count": 8,
   "metadata": {
    "collapsed": true
   },
   "outputs": [],
   "source": [
    "not_road_img3=[]\n",
    "for i in range(len(not_road_img)):\n",
    "    for j in range (len(not_road_img[i])):\n",
    "        for k in range(len(not_road_img[i][j])):\n",
    "            not_road_img2=not_road_img[i][j][k][:3]\n",
    "            not_road_img3.append(not_road_img2)\n",
    "not_road_img3=np.asarray(not_road_img3).reshape(300,256,256,3)"
   ]
  },
  {
   "cell_type": "markdown",
   "metadata": {},
   "source": [
    "### 训练的图片和标签"
   ]
  },
  {
   "cell_type": "markdown",
   "metadata": {},
   "source": [
    "#### 一定要用vstack"
   ]
  },
  {
   "cell_type": "code",
   "execution_count": 9,
   "metadata": {
    "collapsed": true
   },
   "outputs": [],
   "source": [
    "images=np.vstack((road_img3,not_road_img3))\n",
    "labels=[1,0]*300+[0,1]*300\n",
    "resized_images = [np.reshape(cv2.resize(img,(64,64),interpolation=cv2.INTER_AREA), [1,64,64,3]) for img in images]"
   ]
  },
  {
   "cell_type": "code",
   "execution_count": 14,
   "metadata": {},
   "outputs": [
    {
     "data": {
      "text/plain": [
       "(600, 256, 256, 3)"
      ]
     },
     "execution_count": 14,
     "metadata": {},
     "output_type": "execute_result"
    }
   ],
   "source": [
    "images.shape"
   ]
  },
  {
   "cell_type": "code",
   "execution_count": 24,
   "metadata": {},
   "outputs": [],
   "source": [
    "train_size = int(len(resized_images)*0.9)\n",
    "train_x = np.vstack(resized_images[:train_size])\n",
    "test_x = resized_images[train_size:]\n",
    "train_y = np.vstack(labels[:train_size])\n",
    "test_y = labels[train_size:]"
   ]
  },
  {
   "cell_type": "code",
   "execution_count": 26,
   "metadata": {},
   "outputs": [
    {
     "data": {
      "text/plain": [
       "540"
      ]
     },
     "execution_count": 26,
     "metadata": {},
     "output_type": "execute_result"
    }
   ],
   "source": [
    "len(train_y)"
   ]
  },
  {
   "cell_type": "code",
   "execution_count": 25,
   "metadata": {},
   "outputs": [
    {
     "data": {
      "text/plain": [
       "540"
      ]
     },
     "execution_count": 25,
     "metadata": {},
     "output_type": "execute_result"
    }
   ],
   "source": [
    "len(train_x)"
   ]
  },
  {
   "cell_type": "markdown",
   "metadata": {},
   "source": [
    "### 四通道的图片"
   ]
  },
  {
   "cell_type": "code",
   "execution_count": 41,
   "metadata": {
    "collapsed": true
   },
   "outputs": [],
   "source": [
    "img=road_img[:500]+not_road_img[:500]\n",
    "labels=[1,0]*500+[0,1]*500\n",
    "resized_images2 = [np.reshape(cv2.resize(img,(64,64),interpolation=cv2.INTER_AREA), [1,64,64,4]) for img in img]\n",
    "train_size = int(len(resized_images2))\n",
    "train_x2 = np.vstack(resized_images2[:train_size])\n",
    "test_x2= resized_images2[train_size:]\n",
    "train_y2 = np.vstack(labels[:train_size])\n",
    "test_y2 = labels[train_size:]"
   ]
  },
  {
   "cell_type": "code",
   "execution_count": 27,
   "metadata": {},
   "outputs": [
    {
     "name": "stderr",
     "output_type": "stream",
     "text": [
      "/anaconda2/lib/python2.7/site-packages/ipykernel_launcher.py:7: UserWarning: Update your `Conv2D` call to the Keras 2 API: `Conv2D(32, (3, 3), padding=\"same\", activation=\"relu\", input_shape=(64, 64, 3...)`\n",
      "  import sys\n",
      "/anaconda2/lib/python2.7/site-packages/ipykernel_launcher.py:8: UserWarning: Update your `Conv2D` call to the Keras 2 API: `Conv2D(32, (3, 3), padding=\"same\", activation=\"relu\")`\n",
      "  \n",
      "/anaconda2/lib/python2.7/site-packages/ipykernel_launcher.py:11: UserWarning: Update your `Conv2D` call to the Keras 2 API: `Conv2D(64, (4, 4), padding=\"same\", activation=\"relu\")`\n",
      "  # This is added back by InteractiveShellApp.init_path()\n",
      "/anaconda2/lib/python2.7/site-packages/ipykernel_launcher.py:16: UserWarning: Update your `Conv2D` call to the Keras 2 API: `Conv2D(128, (4, 4), padding=\"same\", activation=\"relu\")`\n",
      "  app.launch_new_instance()\n"
     ]
    },
    {
     "name": "stdout",
     "output_type": "stream",
     "text": [
      "Train on 405 samples, validate on 135 samples\n",
      "Epoch 1/80\n",
      "405/405 [==============================] - 10s - loss: 175.7523 - acc: 0.4938 - val_loss: 170.8540 - val_acc: 0.5037\n",
      "Epoch 2/80\n",
      "405/405 [==============================] - 8s - loss: 167.9133 - acc: 0.5210 - val_loss: 164.6566 - val_acc: 0.4963\n",
      "Epoch 3/80\n",
      "405/405 [==============================] - 9s - loss: 161.8265 - acc: 0.5235 - val_loss: 158.7256 - val_acc: 0.5037\n",
      "Epoch 4/80\n",
      "405/405 [==============================] - 7s - loss: 155.8599 - acc: 0.5481 - val_loss: 152.6673 - val_acc: 0.4667\n",
      "Epoch 5/80\n",
      "405/405 [==============================] - 7s - loss: 150.0647 - acc: 0.5284 - val_loss: 146.9288 - val_acc: 0.4963\n",
      "Epoch 6/80\n",
      "405/405 [==============================] - 9s - loss: 144.2762 - acc: 0.5778 - val_loss: 141.2119 - val_acc: 0.4963\n",
      "Epoch 7/80\n",
      "405/405 [==============================] - 8s - loss: 138.7144 - acc: 0.5111 - val_loss: 135.6501 - val_acc: 0.5037\n",
      "Epoch 8/80\n",
      "405/405 [==============================] - 9s - loss: 133.1494 - acc: 0.6123 - val_loss: 130.3863 - val_acc: 0.4963\n",
      "Epoch 9/80\n",
      "405/405 [==============================] - 8s - loss: 127.7693 - acc: 0.5802 - val_loss: 124.8890 - val_acc: 0.4889\n",
      "Epoch 10/80\n",
      "405/405 [==============================] - 7s - loss: 122.4602 - acc: 0.6395 - val_loss: 119.6371 - val_acc: 0.5259\n",
      "Epoch 11/80\n",
      "405/405 [==============================] - 7s - loss: 117.3021 - acc: 0.6025 - val_loss: 114.5767 - val_acc: 0.4741\n",
      "Epoch 12/80\n",
      "405/405 [==============================] - 7s - loss: 112.2516 - acc: 0.6321 - val_loss: 109.6413 - val_acc: 0.4148\n",
      "Epoch 13/80\n",
      "405/405 [==============================] - 8s - loss: 107.3477 - acc: 0.6148 - val_loss: 104.7958 - val_acc: 0.4593\n",
      "Epoch 14/80\n",
      "405/405 [==============================] - 8s - loss: 102.5758 - acc: 0.6568 - val_loss: 100.2250 - val_acc: 0.4963\n",
      "Epoch 15/80\n",
      "405/405 [==============================] - 7s - loss: 97.9948 - acc: 0.6074 - val_loss: 95.6091 - val_acc: 0.4370\n",
      "Epoch 16/80\n",
      "405/405 [==============================] - 8s - loss: 93.5178 - acc: 0.6716 - val_loss: 91.2065 - val_acc: 0.5037\n",
      "Epoch 17/80\n",
      "405/405 [==============================] - 9s - loss: 89.2371 - acc: 0.6074 - val_loss: 86.9977 - val_acc: 0.5037\n",
      "Epoch 18/80\n",
      "405/405 [==============================] - 9s - loss: 85.0358 - acc: 0.7235 - val_loss: 83.0577 - val_acc: 0.4963\n",
      "Epoch 19/80\n",
      "405/405 [==============================] - 8s - loss: 81.0344 - acc: 0.6444 - val_loss: 79.0212 - val_acc: 0.4444\n",
      "Epoch 20/80\n",
      "405/405 [==============================] - 8s - loss: 77.1001 - acc: 0.6790 - val_loss: 75.1428 - val_acc: 0.5037\n",
      "Epoch 21/80\n",
      "405/405 [==============================] - 8s - loss: 73.3396 - acc: 0.6617 - val_loss: 71.5104 - val_acc: 0.5037\n",
      "Epoch 22/80\n",
      "405/405 [==============================] - 8s - loss: 69.7004 - acc: 0.6469 - val_loss: 67.9327 - val_acc: 0.5037\n",
      "Epoch 23/80\n",
      "405/405 [==============================] - 8s - loss: 66.1742 - acc: 0.7333 - val_loss: 64.6871 - val_acc: 0.5037\n",
      "Epoch 24/80\n",
      "405/405 [==============================] - 9s - loss: 62.8025 - acc: 0.7086 - val_loss: 61.1158 - val_acc: 0.4519\n",
      "Epoch 25/80\n",
      "405/405 [==============================] - 8s - loss: 59.5601 - acc: 0.6346 - val_loss: 57.9550 - val_acc: 0.4741\n",
      "Epoch 26/80\n",
      "405/405 [==============================] - 8s - loss: 56.3801 - acc: 0.7506 - val_loss: 54.8493 - val_acc: 0.4963\n",
      "Epoch 27/80\n",
      "405/405 [==============================] - 9s - loss: 53.3381 - acc: 0.7531 - val_loss: 51.8649 - val_acc: 0.4370\n",
      "Epoch 28/80\n",
      "405/405 [==============================] - 9s - loss: 50.3936 - acc: 0.7185 - val_loss: 49.0375 - val_acc: 0.4815\n",
      "Epoch 29/80\n",
      "405/405 [==============================] - 9s - loss: 47.5825 - acc: 0.7284 - val_loss: 46.2605 - val_acc: 0.4741\n",
      "Epoch 30/80\n",
      "405/405 [==============================] - 8s - loss: 44.8734 - acc: 0.7185 - val_loss: 43.6152 - val_acc: 0.4444\n",
      "Epoch 31/80\n",
      "405/405 [==============================] - 8s - loss: 42.2887 - acc: 0.7753 - val_loss: 41.1745 - val_acc: 0.5037\n",
      "Epoch 32/80\n",
      "405/405 [==============================] - 9s - loss: 39.8406 - acc: 0.6840 - val_loss: 38.6942 - val_acc: 0.4741\n",
      "Epoch 33/80\n",
      "405/405 [==============================] - 10s - loss: 37.4739 - acc: 0.7531 - val_loss: 36.4815 - val_acc: 0.5037\n",
      "Epoch 34/80\n",
      "405/405 [==============================] - 8s - loss: 35.2234 - acc: 0.7333 - val_loss: 34.2093 - val_acc: 0.4222\n",
      "Epoch 35/80\n",
      "405/405 [==============================] - 7s - loss: 33.0765 - acc: 0.7358 - val_loss: 32.1367 - val_acc: 0.4963\n",
      "Epoch 36/80\n",
      "405/405 [==============================] - 8s - loss: 31.0449 - acc: 0.7309 - val_loss: 30.1541 - val_acc: 0.4444\n",
      "Epoch 37/80\n",
      "405/405 [==============================] - 8s - loss: 29.1041 - acc: 0.7704 - val_loss: 28.3068 - val_acc: 0.4815\n",
      "Epoch 38/80\n",
      "405/405 [==============================] - 8s - loss: 27.2257 - acc: 0.7778 - val_loss: 26.5692 - val_acc: 0.4963\n",
      "Epoch 39/80\n",
      "405/405 [==============================] - 7s - loss: 25.4729 - acc: 0.7383 - val_loss: 24.7599 - val_acc: 0.4963\n",
      "Epoch 40/80\n",
      "405/405 [==============================] - 9s - loss: 23.7772 - acc: 0.7531 - val_loss: 23.2053 - val_acc: 0.5111\n",
      "Epoch 41/80\n",
      "405/405 [==============================] - 8s - loss: 22.1969 - acc: 0.7481 - val_loss: 21.6020 - val_acc: 0.4741\n",
      "Epoch 42/80\n",
      "405/405 [==============================] - 8s - loss: 20.6715 - acc: 0.8000 - val_loss: 20.1428 - val_acc: 0.4074\n",
      "Epoch 43/80\n",
      "405/405 [==============================] - 8s - loss: 19.2391 - acc: 0.7901 - val_loss: 18.9811 - val_acc: 0.5037\n",
      "Epoch 44/80\n",
      "405/405 [==============================] - 8s - loss: 17.9037 - acc: 0.8148 - val_loss: 17.4960 - val_acc: 0.4444\n",
      "Epoch 45/80\n",
      "405/405 [==============================] - 8s - loss: 16.6228 - acc: 0.7605 - val_loss: 16.2272 - val_acc: 0.4000\n",
      "Epoch 46/80\n",
      "405/405 [==============================] - 8s - loss: 15.3913 - acc: 0.8370 - val_loss: 15.0791 - val_acc: 0.4593\n",
      "Epoch 47/80\n",
      "405/405 [==============================] - 8s - loss: 14.3160 - acc: 0.7432 - val_loss: 13.9964 - val_acc: 0.4963\n",
      "Epoch 48/80\n",
      "405/405 [==============================] - 8s - loss: 13.2240 - acc: 0.7852 - val_loss: 13.1278 - val_acc: 0.5037\n",
      "Epoch 49/80\n",
      "405/405 [==============================] - 8s - loss: 12.2396 - acc: 0.7901 - val_loss: 12.0681 - val_acc: 0.4889\n",
      "Epoch 50/80\n",
      "405/405 [==============================] - 9s - loss: 11.2942 - acc: 0.8346 - val_loss: 11.1507 - val_acc: 0.4370\n",
      "Epoch 51/80\n",
      "405/405 [==============================] - 8s - loss: 10.4323 - acc: 0.8346 - val_loss: 10.3525 - val_acc: 0.5037\n",
      "Epoch 52/80\n",
      "405/405 [==============================] - 8s - loss: 9.6354 - acc: 0.7580 - val_loss: 9.5121 - val_acc: 0.5111\n",
      "Epoch 53/80\n",
      "405/405 [==============================] - 8s - loss: 8.8801 - acc: 0.8222 - val_loss: 8.8125 - val_acc: 0.4222\n",
      "Epoch 54/80\n",
      "405/405 [==============================] - 7s - loss: 8.1673 - acc: 0.8346 - val_loss: 8.1746 - val_acc: 0.4889\n",
      "Epoch 55/80\n",
      "405/405 [==============================] - 8s - loss: 7.5173 - acc: 0.8370 - val_loss: 7.4893 - val_acc: 0.4444\n",
      "Epoch 56/80\n",
      "405/405 [==============================] - 7s - loss: 6.9180 - acc: 0.8296 - val_loss: 7.0258 - val_acc: 0.4963\n",
      "Epoch 57/80\n",
      "405/405 [==============================] - 8s - loss: 6.3532 - acc: 0.8296 - val_loss: 6.4542 - val_acc: 0.4148\n",
      "Epoch 58/80\n",
      "405/405 [==============================] - 9s - loss: 5.8428 - acc: 0.8123 - val_loss: 5.9858 - val_acc: 0.4667\n",
      "Epoch 59/80\n",
      "405/405 [==============================] - 8s - loss: 5.3952 - acc: 0.8370 - val_loss: 5.4698 - val_acc: 0.4593\n",
      "Epoch 60/80\n",
      "405/405 [==============================] - 7s - loss: 4.9389 - acc: 0.8667 - val_loss: 5.1757 - val_acc: 0.5037\n",
      "Epoch 61/80\n",
      "405/405 [==============================] - 8s - loss: 4.5507 - acc: 0.8469 - val_loss: 4.6927 - val_acc: 0.4815\n",
      "Epoch 62/80\n",
      "405/405 [==============================] - 9s - loss: 4.1746 - acc: 0.8840 - val_loss: 4.4113 - val_acc: 0.4000\n",
      "Epoch 63/80\n",
      "405/405 [==============================] - 10s - loss: 3.8237 - acc: 0.8642 - val_loss: 4.1096 - val_acc: 0.4963\n",
      "Epoch 64/80\n",
      "405/405 [==============================] - 9s - loss: 3.5322 - acc: 0.8691 - val_loss: 3.8326 - val_acc: 0.4815\n",
      "Epoch 65/80\n"
     ]
    },
    {
     "name": "stdout",
     "output_type": "stream",
     "text": [
      "405/405 [==============================] - 7s - loss: 3.2616 - acc: 0.8617 - val_loss: 3.6316 - val_acc: 0.4963\n",
      "Epoch 66/80\n",
      "405/405 [==============================] - 8s - loss: 3.0256 - acc: 0.8543 - val_loss: 3.4023 - val_acc: 0.4889\n",
      "Epoch 67/80\n",
      "405/405 [==============================] - 8s - loss: 2.7932 - acc: 0.8889 - val_loss: 3.1318 - val_acc: 0.4222\n",
      "Epoch 68/80\n",
      "405/405 [==============================] - 9s - loss: 2.5986 - acc: 0.8790 - val_loss: 3.0969 - val_acc: 0.5037\n",
      "Epoch 69/80\n",
      "405/405 [==============================] - 8s - loss: 2.4285 - acc: 0.8642 - val_loss: 2.8549 - val_acc: 0.4741\n",
      "Epoch 70/80\n",
      "405/405 [==============================] - 8s - loss: 2.2501 - acc: 0.8691 - val_loss: 2.6269 - val_acc: 0.3852\n",
      "Epoch 71/80\n",
      "405/405 [==============================] - 8s - loss: 2.0762 - acc: 0.9062 - val_loss: 2.5057 - val_acc: 0.4519\n",
      "Epoch 72/80\n",
      "405/405 [==============================] - 8s - loss: 1.9696 - acc: 0.8840 - val_loss: 2.4187 - val_acc: 0.4889\n",
      "Epoch 73/80\n",
      "405/405 [==============================] - 9s - loss: 1.8639 - acc: 0.8642 - val_loss: 2.4352 - val_acc: 0.5037\n",
      "Epoch 74/80\n",
      "405/405 [==============================] - 7s - loss: 1.7342 - acc: 0.8716 - val_loss: 2.2453 - val_acc: 0.4963\n",
      "Epoch 75/80\n",
      "405/405 [==============================] - 8s - loss: 1.6288 - acc: 0.8864 - val_loss: 2.0825 - val_acc: 0.4963\n",
      "Epoch 76/80\n",
      "405/405 [==============================] - 8s - loss: 1.5370 - acc: 0.8840 - val_loss: 2.1520 - val_acc: 0.5037\n",
      "Epoch 77/80\n",
      "405/405 [==============================] - 8s - loss: 1.4794 - acc: 0.8765 - val_loss: 2.0045 - val_acc: 0.4963\n",
      "Epoch 78/80\n",
      "405/405 [==============================] - 9s - loss: 1.3570 - acc: 0.9235 - val_loss: 2.0668 - val_acc: 0.4815\n",
      "Epoch 79/80\n",
      "405/405 [==============================] - 8s - loss: 1.3231 - acc: 0.9037 - val_loss: 1.8711 - val_acc: 0.4370\n",
      "Epoch 80/80\n",
      "405/405 [==============================] - 7s - loss: 1.2545 - acc: 0.9062 - val_loss: 1.7830 - val_acc: 0.4370\n"
     ]
    },
    {
     "data": {
      "text/plain": [
       "<keras.callbacks.History at 0x1c3b144a90>"
      ]
     },
     "execution_count": 27,
     "metadata": {},
     "output_type": "execute_result"
    }
   ],
   "source": [
    "op = RMSprop(lr=0.0001)\n",
    "ob = 'binary_crossentropy'\n",
    "def Cnet():\n",
    "    \n",
    "    model = Sequential()\n",
    "\n",
    "    model.add(Convolution2D(32, 3, 3, border_mode='same', input_shape=(64, 64, 3), activation='relu'))\n",
    "    model.add(Convolution2D(32, 3, 3, border_mode='same', activation='relu'))\n",
    "    model.add(MaxPooling2D(pool_size=(3, 3)))\n",
    "\n",
    "    model.add(Convolution2D(64, 4, 4, border_mode='same', activation='relu'))\n",
    "    model.add(MaxPooling2D(pool_size=(3, 3)))\n",
    "    \n",
    "\n",
    "    \n",
    "    model.add(Convolution2D(128, 4, 4, border_mode='same', activation='relu'))\n",
    "    model.add(MaxPooling2D(pool_size=(3, 3)))\n",
    "    \n",
    "\n",
    "    model.add(Flatten())\n",
    "    model.add(Dense(256, activation='relu',kernel_regularizer=regularizers.l2(0.3)))\n",
    "    \n",
    "    model.add(Dense(256, activation='relu',kernel_regularizer=regularizers.l2(0.3)))\n",
    "\n",
    "    model.add(Dense(1))\n",
    "    model.add(Activation('sigmoid'))\n",
    "    model.compile(loss=ob, optimizer=op, metrics=['accuracy'])\n",
    "    return model\n",
    "\n",
    "\n",
    "model = Cnet()\n",
    "\n",
    "\n",
    "model = Cnet()\n",
    "class LossHistory(Callback):\n",
    "    def on_train_begin(self, logs={}):\n",
    "        self.losses = []\n",
    "        self.val_losses = []\n",
    "        \n",
    "    def on_epoch_end(self, batch, logs={}):\n",
    "        self.losses.append(logs.get('loss'))\n",
    "        self.val_losses.append(logs.get('val_loss'))\n",
    "\n",
    "history = LossHistory()\n",
    "model.fit(train_x, train_y, batch_size=32, epochs=80,validation_split=0.25, verbose=1, shuffle=True, callbacks=[history])"
   ]
  },
  {
   "cell_type": "code",
   "execution_count": 28,
   "metadata": {},
   "outputs": [
    {
     "name": "stdout",
     "output_type": "stream",
     "text": [
      "('Test score:', 1.3345660624680695)\n",
      "('Test accuracy:', 0.80925925859698544)\n"
     ]
    }
   ],
   "source": [
    "score = model.evaluate(train_x, train_y, verbose=0)  \n",
    "print('Test score:', score[0])  \n",
    "print('Test accuracy:', score[1])  "
   ]
  },
  {
   "cell_type": "code",
   "execution_count": 29,
   "metadata": {},
   "outputs": [
    {
     "data": {
      "image/png": "[encoded data removed]",
      "text/plain": [
       "<matplotlib.figure.Figure at 0x1c3a4b0610>"
      ]
     },
     "metadata": {},
     "output_type": "display_data"
    }
   ],
   "source": [
    "loss = history.losses\n",
    "val_loss = history.val_losses\n",
    "plt.xlabel('Epochs')\n",
    "plt.ylabel('Loss')\n",
    "plt.title('VGG-16 Loss Trend (Underfitting)')\n",
    "plt.plot(loss[1:], 'blue', label='Training Loss')\n",
    "plt.plot(val_loss[1:], 'green', label='Validation Loss')\n",
    "plt.legend()\n",
    "plt.show()"
   ]
  },
  {
   "cell_type": "code",
   "execution_count": 35,
   "metadata": {
    "collapsed": true
   },
   "outputs": [],
   "source": [
    "n=0\n",
    "for i in range(0,300):\n",
    "    a=model.predict(resized_images[i])\n",
    "    if(a>0.5):\n",
    "        n+=1  \n",
    "n2=0\n",
    "for i in range(300,600):\n",
    "    a=model.predict(resized_images[i])\n",
    "    if(a<0.5):\n",
    "        n2+=1 \n",
    "acc=(float)(n+n2)/600"
   ]
  },
  {
   "cell_type": "code",
   "execution_count": 37,
   "metadata": {},
   "outputs": [
    {
     "data": {
      "text/plain": [
       "(156, 87, 0.405)"
      ]
     },
     "execution_count": 37,
     "metadata": {},
     "output_type": "execute_result"
    }
   ],
   "source": [
    "n , n2,acc"
   ]
  },
  {
   "cell_type": "code",
   "execution_count": null,
   "metadata": {
    "collapsed": true
   },
   "outputs": [],
   "source": []
  }
 ],
 "metadata": {
  "kernelspec": {
   "display_name": "Python 2",
   "language": "python",
   "name": "python2"
  },
  "language_info": {
   "codemirror_mode": {
    "name": "ipython",
    "version": 2
   },
   "file_extension": ".py",
   "mimetype": "text/x-python",
   "name": "python",
   "nbconvert_exporter": "python",
   "pygments_lexer": "ipython2",
   "version": "2.7.13"
  }
 },
 "nbformat": 4,
 "nbformat_minor": 2
}
