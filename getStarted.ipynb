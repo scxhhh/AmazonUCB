{
 "cells": [
  {
   "cell_type": "markdown",
   "metadata": {
    "_cell_guid": "f37a9596-11de-4330-6e6d-2fda24efdba3",
    "_uuid": "7cfebd9e9689202cbe3f60a49d73510f0730e859"
   },
   "source": [
    "This is based on our official notebook - not something I can take credit for :)\n",
    "https://github.com/planetlabs/planet-amazon-deforestation/blob/master/planet_chip_examples.ipynb\n",
    "\n",
    "# *Planet: Understanding the Amazon from Space* challenge\n",
    "\n",
    "This notebook will show you how to do some basic manipulation of the images and label files."
   ]
  },
  {
   "cell_type": "code",
   "execution_count": 1,
   "metadata": {
    "_cell_guid": "9018e828-1983-15e2-6566-b93fa759ca04",
    "_uuid": "da6572c624166b58caf7011eabdbe726a64596d8",
    "collapsed": true
   },
   "outputs": [],
   "source": [
    "import sys\n",
    "import os\n",
    "import subprocess\n",
    "\n",
    "from six import string_types\n",
    "\n",
    "# Make sure you have all of these packages installed, e.g. via pip\n",
    "import numpy as np\n",
    "import pandas as pd\n",
    "import seaborn as sns\n",
    "import matplotlib.pyplot as plt\n",
    "import matplotlib.image as mpimg\n",
    "import scipy\n",
    "from skimage import io\n",
    "from scipy import ndimage\n",
    "from IPython.display import display\n",
    "%matplotlib inline"
   ]
  },
  {
   "cell_type": "code",
   "execution_count": 2,
   "metadata": {
    "_cell_guid": "6e51259c-c390-6751-a321-2ede2b312a7c",
    "_uuid": "e03f2df64b418d0b815b69298d0074ad773a7ea7"
   },
   "outputs": [
    {
     "name": "stdout",
     "output_type": "stream",
     "text": [
      "total 2816\r\n",
      "drwxr-xr-x      6 YeShulin  staff   204B Oct 14 19:39 \u001b[34m.\u001b[m\u001b[m\r\n",
      "drwxr-xr-x@     7 YeShulin  staff   238B Oct 14 20:25 \u001b[34m..\u001b[m\u001b[m\r\n",
      "-rw-r--r--@     1 YeShulin  staff   6.0K Oct 14 19:41 .DS_Store\r\n",
      "drwxr-xr-x  40671 YeShulin  staff   1.3M Apr 19 18:08 \u001b[34mtest-jpg\u001b[m\u001b[m\r\n",
      "drwxr-xr-x  40481 YeShulin  staff   1.3M Apr 19 17:59 \u001b[34mtrain-jpg\u001b[m\u001b[m\r\n",
      "-rw-r--r--@     1 YeShulin  staff   1.4M May  8 22:52 train.csv\r\n"
     ]
    }
   ],
   "source": [
    "!ls -lha ../input"
   ]
  },
  {
   "cell_type": "code",
   "execution_count": 3,
   "metadata": {
    "_cell_guid": "a4f4f743-8c83-28b6-b759-1f85d91bd4f9",
    "_uuid": "ef8fd7702e0664b19efe3c17586998f447829997"
   },
   "outputs": [
    {
     "name": "stdout",
     "output_type": "stream",
     "text": [
      "ls: ../input/test-tif-v2: No such file or directory\r\n",
      "       0\r\n"
     ]
    }
   ],
   "source": [
    "!ls -lha ../input/test-tif-v2 | wc -l"
   ]
  },
  {
   "cell_type": "markdown",
   "metadata": {
    "_cell_guid": "de648e34-cf96-3c7d-37ad-59bc2b8360f7",
    "_uuid": "f3c0a8d01958d5ede951e5173553dad9bbe26088"
   },
   "source": [
    "## Setup\n",
    "Set `PLANET_KAGGLE_ROOT` to the proper directory where we've got the TIFF and JPEG zip files, and accompanying CSVs."
   ]
  },
  {
   "cell_type": "code",
   "execution_count": 5,
   "metadata": {
    "_cell_guid": "bace665c-f34b-09ff-7808-9efa412c65ca",
    "_uuid": "6392c92a35df96effa7bc12ec2e502536d82d8fd"
   },
   "outputs": [],
   "source": [
    "PLANET_KAGGLE_ROOT = os.path.abspath(\"../input/\")\n",
    "PLANET_KAGGLE_JPEG_DIR = os.path.join(PLANET_KAGGLE_ROOT, 'train-jpg')\n",
    "PLANET_KAGGLE_LABEL_CSV = os.path.join(PLANET_KAGGLE_ROOT, 'train_v2.csv')\n",
    "assert os.path.exists(PLANET_KAGGLE_ROOT)\n",
    "assert os.path.exists(PLANET_KAGGLE_JPEG_DIR)\n",
    "assert os.path.exists(PLANET_KAGGLE_LABEL_CSV)"
   ]
  },
  {
   "cell_type": "markdown",
   "metadata": {
    "_cell_guid": "3468c4df-3507-4650-e1ef-33348b7507ec",
    "_uuid": "681e93d21485b9e599547d10ae290f3b5acb996f"
   },
   "source": [
    "## Inspect image labels\n",
    "The labels are in a CSV entitled `train.csv`. Note that each image can be tagged with multiple tags. We'll convert them to a \"one hot\" style representation where each label is a column:"
   ]
  },
  {
   "cell_type": "code",
   "execution_count": 6,
   "metadata": {
    "_cell_guid": "d0c7574c-940e-7d28-e0f3-4f333a83300a",
    "_uuid": "0055f8d83b776ef4d128ec835b9bd849fc94fbec"
   },
   "outputs": [
    {
     "name": "stdout",
     "output_type": "stream",
     "text": [
      "ls: /kaggle/input/train_v2.csv: No such file or directory\r\n"
     ]
    }
   ],
   "source": [
    "!ls -lha /kaggle/input/train_v2.csv"
   ]
  },
  {
   "cell_type": "code",
   "execution_count": 7,
   "metadata": {
    "_cell_guid": "6a90f711-8222-e7b0-9635-a00456ed64b0",
    "_uuid": "879ce36b8db380e97821b0f941eaf09b647f60fb"
   },
   "outputs": [
    {
     "data": {
      "text/html": [
       "<div>\n",
       "<style>\n",
       "    .dataframe thead tr:only-child th {\n",
       "        text-align: right;\n",
       "    }\n",
       "\n",
       "    .dataframe thead th {\n",
       "        text-align: left;\n",
       "    }\n",
       "\n",
       "    .dataframe tbody tr th {\n",
       "        vertical-align: top;\n",
       "    }\n",
       "</style>\n",
       "<table border=\"1\" class=\"dataframe\">\n",
       "  <thead>\n",
       "    <tr style=\"text-align: right;\">\n",
       "      <th></th>\n",
       "      <th>image_name</th>\n",
       "      <th>tags</th>\n",
       "    </tr>\n",
       "  </thead>\n",
       "  <tbody>\n",
       "    <tr>\n",
       "      <th>0</th>\n",
       "      <td>train_0</td>\n",
       "      <td>haze primary</td>\n",
       "    </tr>\n",
       "    <tr>\n",
       "      <th>1</th>\n",
       "      <td>train_1</td>\n",
       "      <td>agriculture clear primary water</td>\n",
       "    </tr>\n",
       "    <tr>\n",
       "      <th>2</th>\n",
       "      <td>train_2</td>\n",
       "      <td>clear primary</td>\n",
       "    </tr>\n",
       "    <tr>\n",
       "      <th>3</th>\n",
       "      <td>train_3</td>\n",
       "      <td>clear primary</td>\n",
       "    </tr>\n",
       "    <tr>\n",
       "      <th>4</th>\n",
       "      <td>train_4</td>\n",
       "      <td>agriculture clear habitation primary road</td>\n",
       "    </tr>\n",
       "  </tbody>\n",
       "</table>\n",
       "</div>"
      ],
      "text/plain": [
       "  image_name                                       tags\n",
       "0    train_0                               haze primary\n",
       "1    train_1            agriculture clear primary water\n",
       "2    train_2                              clear primary\n",
       "3    train_3                              clear primary\n",
       "4    train_4  agriculture clear habitation primary road"
      ]
     },
     "execution_count": 7,
     "metadata": {},
     "output_type": "execute_result"
    }
   ],
   "source": [
    "labels_df = pd.read_csv(PLANET_KAGGLE_LABEL_CSV)\n",
    "labels_df.head()"
   ]
  },
  {
   "cell_type": "code",
   "execution_count": null,
   "metadata": {
    "_cell_guid": "f556c7f8-5e52-aab8-ca43-f5184a85836e",
    "_uuid": "eded754ca53836b3eda560cbb66fdec45d85363f",
    "collapsed": true
   },
   "outputs": [],
   "source": [
    "# Build list with unique labels\n",
    "label_list = []\n",
    "for tag_str in labels_df.tags.values:\n",
    "    labels = tag_str.split(' ')\n",
    "    for label in labels:\n",
    "        if label not in label_list:\n",
    "            label_list.append(label)"
   ]
  },
  {
   "cell_type": "code",
   "execution_count": null,
   "metadata": {
    "_cell_guid": "e9f1be5a-b833-e0c3-bbf3-a95a72d02335",
    "_uuid": "bd6dc2d9fa08b3cc7cf82a466d56c2977dec4f01",
    "collapsed": true
   },
   "outputs": [],
   "source": [
    "# Add onehot features for every label\n",
    "for label in label_list:\n",
    "    labels_df[label] = labels_df['tags'].apply(lambda x: 1 if label in x.split(' ') else 0)\n",
    "# Display head\n",
    "labels_df.head()"
   ]
  },
  {
   "cell_type": "code",
   "execution_count": null,
   "metadata": {
    "_cell_guid": "918adbb3-fd30-0d4d-6da2-12b49c6fa3bd",
    "_uuid": "c8d0ccaa26403527e8d0b62cab89d74b821d6e7b",
    "collapsed": true
   },
   "outputs": [],
   "source": [
    "# Histogram of label instances\n",
    "labels_df[label_list].sum().sort_values().plot.bar()"
   ]
  },
  {
   "cell_type": "code",
   "execution_count": null,
   "metadata": {
    "_cell_guid": "345bfce6-c8d5-1c83-4e69-c2ba2ddf256c",
    "_uuid": "ffd645cc5da86b11157a41e52f0115020b831704",
    "collapsed": true
   },
   "outputs": [],
   "source": [
    "def make_cooccurence_matrix(labels):\n",
    "    numeric_df = labels_df[labels]; \n",
    "    c_matrix = numeric_df.T.dot(numeric_df)\n",
    "    sns.heatmap(c_matrix)\n",
    "    return c_matrix\n",
    "    \n",
    "# Compute the co-ocurrence matrix\n",
    "make_cooccurence_matrix(label_list)"
   ]
  },
  {
   "cell_type": "markdown",
   "metadata": {
    "_cell_guid": "c130a544-2ae7-71c9-04f1-51c3e69ce842",
    "_uuid": "c664e5644b30261b1ccdee2d934b744ac70f6f7a"
   },
   "source": [
    "Each image should have exactly one weather label:"
   ]
  },
  {
   "cell_type": "code",
   "execution_count": null,
   "metadata": {
    "_cell_guid": "4c40a10f-83cc-5ab3-7c95-f8e26a08068f",
    "_uuid": "084a991bce01408158c3ee18f03afeb367c5b7bd",
    "collapsed": true
   },
   "outputs": [],
   "source": [
    "weather_labels = ['clear', 'partly_cloudy', 'haze', 'cloudy']\n",
    "make_cooccurence_matrix(weather_labels)"
   ]
  },
  {
   "cell_type": "markdown",
   "metadata": {
    "_cell_guid": "f61ee506-ee56-9ba1-db45-1da151978e5c",
    "_uuid": "be9d3a83b617b2fc7fb2d81636bb03593ee8afdc"
   },
   "source": [
    "But the land labels may overlap:"
   ]
  },
  {
   "cell_type": "code",
   "execution_count": null,
   "metadata": {
    "_cell_guid": "b503e3da-a478-ac7f-41e5-1893394f3a68",
    "_uuid": "fd500e22f3583ddf02e593967f45327828895fc9",
    "collapsed": true
   },
   "outputs": [],
   "source": [
    "land_labels = ['primary', 'agriculture', 'water', 'cultivation', 'habitation']\n",
    "make_cooccurence_matrix(land_labels)"
   ]
  },
  {
   "cell_type": "markdown",
   "metadata": {
    "_cell_guid": "3e06f07e-3c31-067b-78dc-323505ca5d6c",
    "_uuid": "0a41fe80c6b1c31c14d00dc9c04bfd0c6ba5d2fd"
   },
   "source": [
    "The rarer labels have very little overlap:"
   ]
  },
  {
   "cell_type": "code",
   "execution_count": null,
   "metadata": {
    "_cell_guid": "8703df07-3d6b-abfe-8614-28d4ff068e4a",
    "_uuid": "5a248a78faddadee0e1ee385b691cdd0705fc5d4",
    "collapsed": true
   },
   "outputs": [],
   "source": [
    "rare_labels = [l for l in label_list if labels_df[label_list].sum()[l] < 2000]\n",
    "make_cooccurence_matrix(rare_labels)"
   ]
  },
  {
   "cell_type": "markdown",
   "metadata": {
    "_cell_guid": "cbd4cc2b-dc23-5d51-813d-58191d04e36a",
    "_uuid": "1385d195644c28c81ad59700bf4e5a6bdd5bcf47"
   },
   "source": [
    "## Inspect images\n",
    "Let's display an image and visualize the pixel values. Here we will pick an image, load every single single band, then create RGB stack. These raw images are 16-bit (from 0 to 65535), and contain red, green, blue, and [Near infrared (NIR)](https://en.wikipedia.org/wiki/Infrared#Regions_within_the_infrared) channels. In this example, we are discarding the NIR band just to simplify the steps to visualize the image. However, you should probably keep it for ML classification.\n",
    "\n",
    "The files can be easily read into numpy arrays with the skimage."
   ]
  },
  {
   "cell_type": "code",
   "execution_count": null,
   "metadata": {
    "_cell_guid": "ee7b99e6-53d9-3443-67db-3ab30742d448",
    "_uuid": "9c423bc9ee831de78b46c99a28adf095a7c95369",
    "collapsed": true
   },
   "outputs": [],
   "source": [
    "def sample_images(tags, n=None):\n",
    "    \"\"\"Randomly sample n images with the specified tags.\"\"\"\n",
    "    condition = True\n",
    "    if isinstance(tags, string_types):\n",
    "        raise ValueError(\"Pass a list of tags, not a single tag.\")\n",
    "    for tag in tags:\n",
    "        condition = condition & labels_df[tag] == 1\n",
    "    if n is not None:\n",
    "        return labels_df[condition].sample(n)\n",
    "    else:\n",
    "        return labels_df[condition]"
   ]
  },
  {
   "cell_type": "code",
   "execution_count": null,
   "metadata": {
    "_cell_guid": "d4165497-7319-fe38-b113-c572493c9c8c",
    "_uuid": "ae07dee0a066ff0f4de29da2e0e34fac833d0c15",
    "collapsed": true
   },
   "outputs": [],
   "source": [
    "def load_image(filename):\n",
    "    '''Look through the directory tree to find the image you specified\n",
    "    (e.g. train_10.tif vs. train_10.jpg)'''\n",
    "    for dirname in os.listdir(PLANET_KAGGLE_ROOT):\n",
    "        path = os.path.abspath(os.path.join(PLANET_KAGGLE_ROOT, dirname, filename))\n",
    "        if os.path.exists(path):\n",
    "            print('Found image {}'.format(path))\n",
    "            return io.imread(path)\n",
    "    # if you reach this line, you didn't find the image you're looking for\n",
    "    print('Load failed: could not find image {}'.format(path))\n",
    "    \n",
    "def sample_to_fname(sample_df, row_idx, suffix='tif'):\n",
    "    '''Given a dataframe of sampled images, get the\n",
    "    corresponding filename.'''\n",
    "    fname = sample_df.get_value(sample_df.index[row_idx], 'image_name')\n",
    "    return '{}.{}'.format(fname, suffix)"
   ]
  },
  {
   "cell_type": "markdown",
   "metadata": {
    "_cell_guid": "7dfe886c-8f3c-5375-3c3c-e950170249a5",
    "_uuid": "d5a448df3ccf33545ae193483318325f84e23510"
   },
   "source": [
    "Let's look at an individual image. First, we'll plot a histogram of pixel values in each channel. Note how the intensities are distributed in a relatively narrow region of the dynamic range"
   ]
  },
  {
   "cell_type": "code",
   "execution_count": null,
   "metadata": {
    "_cell_guid": "d393a9b7-ad0f-c933-d892-ba7b618f94f2",
    "_uuid": "0cce9497fe6c211359dcf9927dc2e8f2b9e0d507",
    "collapsed": true
   },
   "outputs": [],
   "source": [
    "def plot_rgbn_histo(r, g, b, n):\n",
    "    for slice_, name, color in ((r,'r', 'red'),(g,'g', 'green'),(b,'b', 'blue'), (nir, 'nir', 'magenta')):\n",
    "        plt.hist(slice_.ravel(), bins=100, \n",
    "                 range=[0,rgb_image.max()], \n",
    "                 label=name, color=color, histtype='step')\n",
    "    plt.legend()"
   ]
  },
  {
   "cell_type": "code",
   "execution_count": null,
   "metadata": {
    "_cell_guid": "e61ff246-835d-ab3d-e1a3-6693896ab18a",
    "_uuid": "7e2e0a8fbd9c8ba22774699210ed548681d638f4",
    "collapsed": true
   },
   "outputs": [],
   "source": [
    "s = sample_images(['primary', 'water', 'road'], n=1)\n",
    "fname = sample_to_fname(s, 0)\n",
    "\n",
    "# find the image in the data directory and load it\n",
    "# note the initial bgrn band ordering\n",
    "bgrn_image = load_image(fname)\n",
    "\n",
    "# extract the rgb values\n",
    "bgr_image = bgrn_image[:,:,:3]\n",
    "rgb_image = bgr_image[:, :, [2,1,0]]\n",
    "\n",
    "# extract the different bands\n",
    "b, g, r, nir = bgrn_image[:, :, 0], bgrn_image[:, :, 1], bgrn_image[:, :, 2], bgrn_image[:, :, 3]\n",
    "\n",
    "# plot a histogram of rgbn values\n",
    "plot_rgbn_histo(r, g, b, nir)"
   ]
  },
  {
   "cell_type": "markdown",
   "metadata": {
    "_cell_guid": "8d7cd8aa-f9a9-5a53-9f62-78597f9c65d9",
    "_uuid": "1a1b99c33bed60fbce622aacd2566cc92e163b87"
   },
   "source": [
    "We can look at each channel individually:"
   ]
  },
  {
   "cell_type": "code",
   "execution_count": null,
   "metadata": {
    "_cell_guid": "576746f5-ce04-bb53-25e7-740d20c2cb3b",
    "_uuid": "f541937292f76826fab82722c5679c6871f95daf",
    "collapsed": true
   },
   "outputs": [],
   "source": [
    "# Plot the bands\n",
    "fig = plt.figure()\n",
    "fig.set_size_inches(12, 4)\n",
    "for i, (x, c) in enumerate(((r, 'r'), (g, 'g'), (b, 'b'), (nir, 'near-ir'))):\n",
    "    a = fig.add_subplot(1, 4, i+1)\n",
    "    a.set_title(c)\n",
    "    plt.imshow(x)"
   ]
  },
  {
   "cell_type": "markdown",
   "metadata": {
    "_cell_guid": "de25ec51-d364-09d5-c512-9e1dbc952bf1",
    "_uuid": "1ba2cebb43fa27f84862598ba43c45df33f6b670"
   },
   "source": [
    "But, when we try to look at the RGB image, something funny's going on!|"
   ]
  },
  {
   "cell_type": "code",
   "execution_count": null,
   "metadata": {
    "_cell_guid": "9aa21e0f-4a5c-58a4-6790-76caf192ea13",
    "_uuid": "54b4ec8932878bfa8bc246a00cb7f007daf2f148",
    "collapsed": true
   },
   "outputs": [],
   "source": [
    "plt.imshow(rgb_image)"
   ]
  },
  {
   "cell_type": "markdown",
   "metadata": {
    "_cell_guid": "46156d4c-b583-2650-0e2b-a30f932e91a6",
    "_uuid": "5f65c968bd441f2944f87525b0f5e84e4bfea02d"
   },
   "source": [
    "### Calibrate colors for visual inspection"
   ]
  },
  {
   "cell_type": "markdown",
   "metadata": {
    "_cell_guid": "d1105f35-9d6d-8f24-44db-53681e6fb679",
    "_uuid": "3d0d4000fddee6f34bc0329f99d7b079316dcb27"
   },
   "source": [
    "Yikes! That does not look pretty. This is not a problem for analytic purposes, but we can try some transformations to make the image look better for visual inspection.\n",
    "\n",
    "One way of doing this is to normalize the image channels to a reference color curve. We'll show here how to estimate a reference color curve from other normalized images. We could choose a third party aerial image of a canopy , but here we will employ the JPEG images provided in the data set, which have already been color-corrected.  \n",
    "\n",
    "In essence, the idea is to transform the pixel values of the test image so that their average and variance match the reference image data.\n",
    "\n",
    "Get a list of reference images to extract data from:"
   ]
  },
  {
   "cell_type": "code",
   "execution_count": null,
   "metadata": {
    "_cell_guid": "b3d72c97-c925-ed98-2fd9-d7b4e1ffc629",
    "_uuid": "100977d2e54bcb9790a192c762617a18984b0f9b",
    "collapsed": true
   },
   "outputs": [],
   "source": [
    "# Pull a list of 20000 image names\n",
    "jpg_list = os.listdir(PLANET_KAGGLE_JPEG_DIR)[:20000]\n",
    "# Select a random sample of 100 among those\n",
    "np.random.shuffle(jpg_list)\n",
    "jpg_list = jpg_list[:100]"
   ]
  },
  {
   "cell_type": "code",
   "execution_count": null,
   "metadata": {
    "_cell_guid": "ead55f22-556d-bd82-b8da-8a4c87533537",
    "_uuid": "8c9df18de94c404ce1a50933bbe74527d58b861f",
    "collapsed": true
   },
   "outputs": [],
   "source": [
    "print(jpg_list)"
   ]
  },
  {
   "cell_type": "markdown",
   "metadata": {
    "_cell_guid": "aeb21a56-9225-428d-33fb-0f9b9b79e8db",
    "_uuid": "ca157dba9b195de0fd99c6b68b0710d1457114ff"
   },
   "source": [
    "Read each image (8-bit RGBA) and dump the pixels values to ref_colors, which contains buckets for R, G and B"
   ]
  },
  {
   "cell_type": "code",
   "execution_count": null,
   "metadata": {
    "_cell_guid": "86e2b276-cf76-856e-2c3c-d5f5f2da0c03",
    "_uuid": "8135fc992e03dfa8ba03b2aa17d3a6afb86a4c73",
    "collapsed": true
   },
   "outputs": [],
   "source": [
    "ref_colors = [[],[],[]]\n",
    "for _file in jpg_list:\n",
    "    # keep only the first 3 bands, RGB\n",
    "    _img = mpimg.imread(os.path.join(PLANET_KAGGLE_JPEG_DIR, _file))[:,:,:3]\n",
    "    # Flatten 2-D to 1-D\n",
    "    _data = _img.reshape((-1,3))\n",
    "    # Dump pixel values to aggregation buckets\n",
    "    for i in range(3): \n",
    "        ref_colors[i] = ref_colors[i] + _data[:,i].tolist()\n",
    "    \n",
    "ref_colors = np.array(ref_colors)"
   ]
  },
  {
   "cell_type": "markdown",
   "metadata": {
    "_cell_guid": "0e0c4f47-41a1-9913-6019-7378c4999afc",
    "_uuid": "90301e8a2464c5669f26bbb49ec9055f8c403bd8"
   },
   "source": [
    "Visualize the histogram of the reference data"
   ]
  },
  {
   "cell_type": "code",
   "execution_count": null,
   "metadata": {
    "_cell_guid": "e0a6d26e-b51a-86bd-f312-87948475c98c",
    "_uuid": "ea3e7dee9fdd9457412db621a490d8cd4594f0f4",
    "collapsed": true
   },
   "outputs": [],
   "source": [
    "for i,color in enumerate(['r','g','b']):\n",
    "    plt.hist(ref_colors[i], bins=30, range=[0,255], label=color, color=color, histtype='step')\n",
    "plt.legend()\n",
    "plt.title('Reference color histograms')"
   ]
  },
  {
   "cell_type": "markdown",
   "metadata": {
    "_cell_guid": "4db8b536-c997-dc10-564e-a5e2989b53e7",
    "_uuid": "c35dd15ffe156ea9ac23fee313dc85defd339568"
   },
   "source": [
    "Compute the mean and variance for each channel in the reference data"
   ]
  },
  {
   "cell_type": "code",
   "execution_count": null,
   "metadata": {
    "_cell_guid": "d80f17c6-99e3-a0ad-ae0f-63d8c9546c88",
    "_uuid": "22b63497266db0fd248e3466977c8ebdd312c481",
    "collapsed": true
   },
   "outputs": [],
   "source": [
    "ref_means = [np.mean(ref_colors[i]) for i in range(3)]\n",
    "ref_stds = [np.std(ref_colors[i]) for i in range(3)]"
   ]
  },
  {
   "cell_type": "markdown",
   "metadata": {
    "_cell_guid": "9f2903ab-f1d6-55a8-8615-0387a8784ee3",
    "_uuid": "20e7054066cbac0ae3248b294167c1fe2c769011"
   },
   "source": [
    "And now, we have a function that can calibrate any raw image reasonably well:"
   ]
  },
  {
   "cell_type": "code",
   "execution_count": null,
   "metadata": {
    "_cell_guid": "ae8ece5e-8de5-156b-fb53-fe9516f149c2",
    "_uuid": "f95e70fd80cdd5f5dc8f55bd272b57b751f87097",
    "collapsed": true
   },
   "outputs": [],
   "source": [
    "def calibrate_image(rgb_image):\n",
    "    # Transform test image to 32-bit floats to avoid \n",
    "    # surprises when doing arithmetic with it \n",
    "    calibrated_img = rgb_image.copy().astype('float32')\n",
    "\n",
    "    # Loop over RGB\n",
    "    for i in range(3):\n",
    "        # Subtract mean \n",
    "        calibrated_img[:,:,i] = calibrated_img[:,:,i]-np.mean(calibrated_img[:,:,i])\n",
    "        # Normalize variance\n",
    "        calibrated_img[:,:,i] = calibrated_img[:,:,i]/np.std(calibrated_img[:,:,i])\n",
    "        # Scale to reference \n",
    "        calibrated_img[:,:,i] = calibrated_img[:,:,i]*ref_stds[i] + ref_means[i]\n",
    "        # Clip any values going out of the valid range\n",
    "        calibrated_img[:,:,i] = np.clip(calibrated_img[:,:,i],0,255)\n",
    "\n",
    "    # Convert to 8-bit unsigned int\n",
    "    return calibrated_img.astype('uint8')"
   ]
  },
  {
   "cell_type": "markdown",
   "metadata": {
    "_cell_guid": "a074ce12-da93-2b88-7437-de12c7948b68",
    "_uuid": "fcb079b03a07a501da03d6f8fee32ca29835c35b"
   },
   "source": [
    "Visualize the color histogram of the newly calibrated test image, and note that it's more evenly distributed throughout the dynamic range, and is closer to the reference data."
   ]
  },
  {
   "cell_type": "code",
   "execution_count": null,
   "metadata": {
    "_cell_guid": "257d4945-f0c9-2077-7fcb-f6123dfd4073",
    "_uuid": "3d0acbadf0c0eef42cbf88b03ec09e0efec0f5e6",
    "collapsed": true
   },
   "outputs": [],
   "source": [
    "test_image_calibrated = calibrate_image(rgb_image)\n",
    "for i,color in enumerate(['r','g','b']):\n",
    "    plt.hist(test_image_calibrated[:,:,i].ravel(), bins=30, range=[0,255], \n",
    "             label=color, color=color, histtype='step')\n",
    "plt.legend()\n",
    "plt.title('Calibrated image color histograms')"
   ]
  },
  {
   "cell_type": "markdown",
   "metadata": {
    "_cell_guid": "5174e99f-3540-5adf-f5d1-63573e840115",
    "_uuid": "1b375253c62c326511f0dbf1c3d2ebedbaeffc95"
   },
   "source": [
    "And now we have something we can recognize!"
   ]
  },
  {
   "cell_type": "code",
   "execution_count": null,
   "metadata": {
    "_cell_guid": "7e7a5dd9-e0a5-49b2-836a-d2fdb098eab4",
    "_uuid": "802a863c35087ceb736b754666a66540569e18b2",
    "collapsed": true
   },
   "outputs": [],
   "source": [
    "plt.imshow(test_image_calibrated)"
   ]
  },
  {
   "cell_type": "markdown",
   "metadata": {
    "_cell_guid": "38c08d57-7f43-8c83-8025-2550ed9746bd",
    "_uuid": "e1eef94b6bed2efde24837a24188ecdd394900e7"
   },
   "source": [
    "Putting it all together, to show several images with your tags of choice. You may notice that the jpgs and tifs look a bit different. You can read about why that is here:\n",
    "    \n",
    "[A Hands-on Guide to Color Correction](https://www.planet.com/pulse/color-correction/)"
   ]
  },
  {
   "cell_type": "code",
   "execution_count": null,
   "metadata": {
    "_cell_guid": "432936ae-a00b-cfba-ce56-982a665c8cca",
    "_uuid": "4958cd02f05b1e279656b954b0309b4d6185e8d1",
    "collapsed": true
   },
   "outputs": [],
   "source": [
    "sampled_images = sample_images(['clear', 'road', 'water'], n=3)\n",
    "\n",
    "for i in range(len(sampled_images)):\n",
    "    tif = sample_to_fname(sampled_images, i, 'tif')\n",
    "    jpg = sample_to_fname(sampled_images, i, 'jpg')\n",
    "\n",
    "    try:\n",
    "        tif_img = load_image(tif)[:,:,:3]\n",
    "        jpg_img = load_image(jpg)[:,:,:3]\n",
    "\n",
    "        fig = plt.figure()\n",
    "        plt.imshow(calibrate_image(tif_img))\n",
    "\n",
    "        fig = plt.figure()\n",
    "        plt.imshow(calibrate_image(jpg_img))\n",
    "    except:\n",
    "        continue\n",
    "        \n",
    "        "
   ]
  },
  {
   "cell_type": "markdown",
   "metadata": {
    "_cell_guid": "a96d680f-e9d6-a322-adba-5297198606cc",
    "_uuid": "935999ba3c91affcc620ee709f40436a26214ae4"
   },
   "source": [
    "## Image modification"
   ]
  },
  {
   "cell_type": "markdown",
   "metadata": {
    "_cell_guid": "2cc0df6e-abcf-752e-8284-236c7547ab92",
    "_uuid": "d5c2a601babafaf03469977938b0c20d58cca596"
   },
   "source": [
    "You might want to rotate, flip, or otherwise modify the images for training purposes. Note that the dimensions of the image changes:"
   ]
  },
  {
   "cell_type": "code",
   "execution_count": null,
   "metadata": {
    "_cell_guid": "bc6692e1-db28-234d-a114-638be512004f",
    "_uuid": "8d28ab7ed4fcc1c826f6d20f4d845f322093ce25",
    "collapsed": true
   },
   "outputs": [],
   "source": [
    "fig = plt.figure()\n",
    "fig.set_size_inches(12, 4)\n",
    "for i, (x, c) in enumerate(((r, 'r'), (g, 'g'), (b, 'b'), (nir, 'near-ir'))):\n",
    "    a = fig.add_subplot(1, 4, i+1)\n",
    "    a.set_title(c)\n",
    "    plt.imshow(x)"
   ]
  },
  {
   "cell_type": "code",
   "execution_count": null,
   "metadata": {
    "_cell_guid": "84144dc3-256f-0ba4-43ae-00163898d4ca",
    "_uuid": "d35bbdc2e85003209358767633fe2f47a606afcc",
    "collapsed": true
   },
   "outputs": [],
   "source": [
    "rotated = scipy.ndimage.rotate(rgb_image, angle=45)\n",
    "plt.imshow(rgb_image)\n",
    "plt.imshow(calibrate_image(rotated))\n",
    "rotated.shape"
   ]
  },
  {
   "cell_type": "markdown",
   "metadata": {
    "_cell_guid": "64ff4caf-cebb-857a-8292-4b6af9edfec2",
    "_uuid": "06de4d4e03e7ff85bc654261757bda7f6b51c0b1"
   },
   "source": [
    "Original Notebook by Jesus Martinez Manso and Benjamin Goldenberg\n",
    "\n",
    "(C) Planet 2017"
   ]
  },
  {
   "cell_type": "code",
   "execution_count": null,
   "metadata": {
    "_cell_guid": "e3b10fd3-3ff3-0f6c-5f08-c6cde6ceab98",
    "_uuid": "821b938c0853b639889983144ec0a49e72afa7cf",
    "collapsed": true
   },
   "outputs": [],
   "source": []
  }
 ],
 "metadata": {
  "_change_revision": 0,
  "_is_fork": false,
  "kernelspec": {
   "display_name": "Python 2",
   "language": "python",
   "name": "python2"
  },
  "language_info": {
   "codemirror_mode": {
    "name": "ipython",
    "version": 2
   },
   "file_extension": ".py",
   "mimetype": "text/x-python",
   "name": "python",
   "nbconvert_exporter": "python",
   "pygments_lexer": "ipython2",
   "version": "2.7.13"
  }
 },
 "nbformat": 4,
 "nbformat_minor": 1
}
