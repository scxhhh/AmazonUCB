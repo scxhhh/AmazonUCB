{
 "cells": [
  {
   "cell_type": "code",
   "execution_count": 1,
   "metadata": {},
   "outputs": [
    {
     "name": "stderr",
     "output_type": "stream",
     "text": [
      "Using TensorFlow backend.\n"
     ]
    }
   ],
   "source": [
    "import numpy as np\n",
    "np.random.seed(1337)\n",
    "from keras.datasets import mnist #keras本来就就有的数据集\n",
    "from keras.models import Sequential  #keras的两种模型之一\n",
    "from keras.layers import Dense, Dropout, Activation, Flatten  \n",
    "from keras.utils import np_utils  \n",
    "from keras import backend as K  \n",
    "from keras.layers import Conv2D, MaxPooling2D"
   ]
  },
  {
   "cell_type": "code",
   "execution_count": 2,
   "metadata": {},
   "outputs": [],
   "source": [
    "batch_size=128#每次训练样本个数,太小会训练慢，过拟合，太大会欠拟合\n",
    "nb_classes=10#一共分成10类\n",
    "epochs=12#12次迭代\n",
    "img_rows,img_cols=28,28#图片大小，是灰度图\n",
    "nb_filter=32#卷积核个数\n",
    "kernel_size=(3,3)#卷积核大小\n",
    "pool_size=(2,2)#池化大小"
   ]
  },
  {
   "cell_type": "code",
   "execution_count": 3,
   "metadata": {},
   "outputs": [],
   "source": [
    "(X_train,y_train),(X_test,y_test)=mnist.load_data()"
   ]
  },
  {
   "cell_type": "markdown",
   "metadata": {},
   "source": [
    "#### 'th'模式，即Theano模式会把100张RGB三通道的16×32（高为16宽为32）彩色图表示为下面这种形式（100,3,16,32），Caffe采取的也是这种方式。第0个维度是样本维，代表样本的数目，第1个维度是通道维，代表颜色通道数。后面两个就是高和宽了。而TensorFlow，即'tf'模式的表达形式是（100,16,32,3），即把通道维放在了最后。"
   ]
  },
  {
   "cell_type": "code",
   "execution_count": 4,
   "metadata": {},
   "outputs": [],
   "source": [
    "#keras有两种backend,theano和tensorflow\n",
    "if K.image_data_format() == 'channels_first':\n",
    "    X_train = X_train.reshape(X_train.shape[0], 1, img_rows, img_cols)\n",
    "    X_test = X_test.reshape(X_test.shape[0], 1, img_rows, img_cols)\n",
    "    input_shape = (1, img_rows, img_cols)\n",
    "else:\n",
    "    X_train = X_train.reshape(X_train.shape[0], img_rows, img_cols, 1)\n",
    "    X_test = X_test.reshape(X_test.shape[0], img_rows, img_cols, 1)\n",
    "    input_shape = (img_rows, img_cols, 1)"
   ]
  },
  {
   "cell_type": "code",
   "execution_count": 5,
   "metadata": {},
   "outputs": [
    {
     "name": "stdout",
     "output_type": "stream",
     "text": [
      "('X_train shape:', (60000, 28, 28, 1))\n",
      "(60000, 'train samples')\n",
      "(10000, 'test samples')\n"
     ]
    }
   ],
   "source": [
    "X_train = X_train.astype('float32')  \n",
    "X_test = X_test.astype('float32')  \n",
    "#归一化\n",
    "X_train /= 255  \n",
    "X_test /= 255  \n",
    "print('X_train shape:', X_train.shape)  \n",
    "print(X_train.shape[0], 'train samples')  \n",
    "print(X_test.shape[0], 'test samples')  "
   ]
  },
  {
   "cell_type": "code",
   "execution_count": 6,
   "metadata": {},
   "outputs": [
    {
     "ename": "SyntaxError",
     "evalue": "unexpected EOF while parsing (<ipython-input-6-6e15aefdac4f>, line 1)",
     "output_type": "error",
     "traceback": [
      "\u001b[0;36m  File \u001b[0;32m\"<ipython-input-6-6e15aefdac4f>\"\u001b[0;36m, line \u001b[0;32m1\u001b[0m\n\u001b[0;31m    X_train[\u001b[0m\n\u001b[0m            ^\u001b[0m\n\u001b[0;31mSyntaxError\u001b[0m\u001b[0;31m:\u001b[0m unexpected EOF while parsing\n"
     ]
    }
   ],
   "source": [
    "X_train["
   ]
  },
  {
   "cell_type": "code",
   "execution_count": 7,
   "metadata": {
    "collapsed": true
   },
   "outputs": [],
   "source": [
    "# 转换为one_hot类型 ,标签为1则是0100000000，2是0010000000\n",
    "Y_train = np_utils.to_categorical(y_train, nb_classes)  \n",
    "Y_test = np_utils.to_categorical(y_test, nb_classes)  "
   ]
  },
  {
   "cell_type": "code",
   "execution_count": 8,
   "metadata": {},
   "outputs": [
    {
     "data": {
      "text/plain": [
       "array([[ 0.,  0.,  0., ...,  0.,  0.,  0.],\n",
       "       [ 1.,  0.,  0., ...,  0.,  0.,  0.],\n",
       "       [ 0.,  0.,  0., ...,  0.,  0.,  0.],\n",
       "       ..., \n",
       "       [ 0.,  0.,  0., ...,  0.,  0.,  0.],\n",
       "       [ 0.,  0.,  0., ...,  0.,  0.,  0.],\n",
       "       [ 0.,  0.,  0., ...,  0.,  1.,  0.]])"
      ]
     },
     "execution_count": 8,
     "metadata": {},
     "output_type": "execute_result"
    }
   ],
   "source": [
    "Y_train"
   ]
  },
  {
   "cell_type": "code",
   "execution_count": 9,
   "metadata": {},
   "outputs": [
    {
     "data": {
      "text/plain": [
       "10"
      ]
     },
     "execution_count": 9,
     "metadata": {},
     "output_type": "execute_result"
    }
   ],
   "source": [
    "Y_train[0].size"
   ]
  },
  {
   "cell_type": "code",
   "execution_count": 10,
   "metadata": {
    "collapsed": true
   },
   "outputs": [],
   "source": [
    "model = Sequential()#sequential模型可以随意插入神经网络层"
   ]
  },
  {
   "cell_type": "markdown",
   "metadata": {},
   "source": [
    "##### 二维卷积层对二维输入进行滑动窗卷积，当使用该层作为第一层时，应提供input_shape参数。\n",
    "\n",
    "filters：卷积核的数目；\n",
    "\n",
    "kernel_size：卷积核的尺寸；\n",
    "\n",
    "strides：卷积核移动的步长，分为行方向和列方向；\n",
    "\n",
    "padding：边界模式，有“valid”，“same”或“full”，full需要以theano为后端；\n",
    "\n"
   ]
  },
  {
   "cell_type": "code",
   "execution_count": 12,
   "metadata": {},
   "outputs": [],
   "source": [
    "# 卷积层1 参数是卷积核个数，卷积核大小，边界模式，输入（第一层要有）\n",
    "model.add(Conv2D(nb_filter, (kernel_size[0], kernel_size[1]),  \n",
    "                        padding='same',  \n",
    "                        input_shape=input_shape)) # 卷积层1  "
   ]
  },
  {
   "cell_type": "markdown",
   "metadata": {},
   "source": [
    "##### 激活层对一个层的输出施加激活函数。\n",
    "\n",
    "预定义激活函数：\n",
    "\n",
    "softmax，softplus，softsign，relu，tanh，sigmoid，hard_sigmoid，linear等。\n",
    "\n"
   ]
  },
  {
   "cell_type": "code",
   "execution_count": 13,
   "metadata": {
    "collapsed": true
   },
   "outputs": [],
   "source": [
    "#激活层，第一个conv层后的激活\n",
    "model.add(Activation('relu')) "
   ]
  },
  {
   "cell_type": "code",
   "execution_count": 15,
   "metadata": {},
   "outputs": [],
   "source": [
    "model.add(Conv2D(nb_filter, (kernel_size[0], kernel_size[1]))) #卷积层2  \n",
    "model.add(Activation('relu')) #激活层 "
   ]
  },
  {
   "cell_type": "markdown",
   "metadata": {},
   "source": [
    "##### 池化层\n",
    "pool_size：池化核尺寸；\n",
    "\n",
    "strides：池化核移动步长；\n",
    "\n",
    "padding：边界模式，有“valid”，“same”或“full”，full需要以theano为后端；"
   ]
  },
  {
   "cell_type": "code",
   "execution_count": 16,
   "metadata": {
    "collapsed": true
   },
   "outputs": [],
   "source": [
    "model.add(MaxPooling2D(pool_size=pool_size)) #池化层 "
   ]
  },
  {
   "cell_type": "markdown",
   "metadata": {},
   "source": [
    "##### Dropout将在训练过程中每次更新参数时随机断开一定百分比（p）的输入神经元连接，Dropout层用于防止过拟合"
   ]
  },
  {
   "cell_type": "code",
   "execution_count": 17,
   "metadata": {
    "collapsed": true
   },
   "outputs": [],
   "source": [
    "model.add(Dropout(0.25)) #神经元随机失活  "
   ]
  },
  {
   "cell_type": "markdown",
   "metadata": {},
   "source": [
    "##### Flatten层用来将输入“压平”，即把多维的输入一维化，常用在从卷积层到全连接层的过渡。Flatten不影响batch的大小。"
   ]
  },
  {
   "cell_type": "code",
   "execution_count": 18,
   "metadata": {
    "collapsed": true
   },
   "outputs": [],
   "source": [
    "model.add(Flatten()) #拉成一维数据  "
   ]
  },
  {
   "cell_type": "markdown",
   "metadata": {},
   "source": [
    "##### 输出单元的数量，即全连接层神经元的数量，作为第一层的Dense层必须指定input_shape\n",
    "http://keras-cn.readthedocs.io/en/latest/layers/core_layer/"
   ]
  },
  {
   "cell_type": "code",
   "execution_count": 19,
   "metadata": {
    "collapsed": true
   },
   "outputs": [],
   "source": [
    "model.add(Dense(128)) #全连接层1  \n",
    "model.add(Activation('relu')) #激活层  "
   ]
  },
  {
   "cell_type": "code",
   "execution_count": 20,
   "metadata": {
    "collapsed": true
   },
   "outputs": [],
   "source": [
    "model.add(Dropout(0.5)) #随机失活  "
   ]
  },
  {
   "cell_type": "code",
   "execution_count": 21,
   "metadata": {
    "collapsed": true
   },
   "outputs": [],
   "source": [
    "model.add(Dense(nb_classes)) #全连接层2  "
   ]
  },
  {
   "cell_type": "code",
   "execution_count": 22,
   "metadata": {
    "collapsed": true
   },
   "outputs": [],
   "source": [
    "model.add(Activation('softmax')) #Softmax评分 "
   ]
  },
  {
   "cell_type": "markdown",
   "metadata": {},
   "source": [
    "##### 编译用来配置模型的学习过程，其参数有：\n",
    "\n",
    "optimizer：字符串（预定义优化器名）或优化器对象；\n",
    "\n",
    "loss：字符串（预定义损失函数名）或目标函数；\n",
    "\n",
    "metrics：列表，包含评估模型在训练和测试时的网络性能的指标，典型用法是metrics=['accuracy']；"
   ]
  },
  {
   "cell_type": "code",
   "execution_count": 23,
   "metadata": {
    "collapsed": true
   },
   "outputs": [],
   "source": [
    "#编译模型\n",
    "model.compile(loss='categorical_crossentropy',  \n",
    "              optimizer='adadelta',  \n",
    "              metrics=['accuracy'])  "
   ]
  },
  {
   "cell_type": "code",
   "execution_count": 24,
   "metadata": {},
   "outputs": [
    {
     "name": "stdout",
     "output_type": "stream",
     "text": [
      "Train on 60000 samples, validate on 10000 samples\n",
      "Epoch 1/12\n",
      "60000/60000 [==============================] - 161s - loss: 0.3870 - acc: 0.8822 - val_loss: 0.1010 - val_acc: 0.9684\n",
      "Epoch 2/12\n",
      "60000/60000 [==============================] - 162s - loss: 0.1460 - acc: 0.9567 - val_loss: 0.0640 - val_acc: 0.9791\n",
      "Epoch 3/12\n",
      "60000/60000 [==============================] - 160s - loss: 0.1084 - acc: 0.9680 - val_loss: 0.0537 - val_acc: 0.9822\n",
      "Epoch 4/12\n",
      "60000/60000 [==============================] - 159s - loss: 0.0903 - acc: 0.9731 - val_loss: 0.0446 - val_acc: 0.9856\n",
      "Epoch 5/12\n",
      "60000/60000 [==============================] - 161s - loss: 0.0808 - acc: 0.9757 - val_loss: 0.0402 - val_acc: 0.9870\n",
      "Epoch 6/12\n",
      "60000/60000 [==============================] - 199s - loss: 0.0737 - acc: 0.9782 - val_loss: 0.0387 - val_acc: 0.9878\n",
      "Epoch 7/12\n",
      "60000/60000 [==============================] - 198s - loss: 0.0677 - acc: 0.9805 - val_loss: 0.0351 - val_acc: 0.9884\n",
      "Epoch 8/12\n",
      "60000/60000 [==============================] - 158s - loss: 0.0616 - acc: 0.9821 - val_loss: 0.0347 - val_acc: 0.9890\n",
      "Epoch 9/12\n",
      "60000/60000 [==============================] - 160s - loss: 0.0579 - acc: 0.9830 - val_loss: 0.0338 - val_acc: 0.9884\n",
      "Epoch 10/12\n",
      "60000/60000 [==============================] - 161s - loss: 0.0550 - acc: 0.9839 - val_loss: 0.0317 - val_acc: 0.9889\n",
      "Epoch 11/12\n",
      "60000/60000 [==============================] - 158s - loss: 0.0529 - acc: 0.9838 - val_loss: 0.0304 - val_acc: 0.9897\n",
      "Epoch 12/12\n",
      "60000/60000 [==============================] - 160s - loss: 0.0498 - acc: 0.9855 - val_loss: 0.0331 - val_acc: 0.9896\n"
     ]
    },
    {
     "data": {
      "text/plain": [
       "<keras.callbacks.History at 0x314993250>"
      ]
     },
     "execution_count": 24,
     "metadata": {},
     "output_type": "execute_result"
    }
   ],
   "source": [
    "#训练模型\n",
    "model.fit(X_train, Y_train, batch_size=batch_size, epochs=epochs,  \n",
    "          verbose=1, validation_data=(X_test, Y_test))"
   ]
  },
  {
   "cell_type": "code",
   "execution_count": null,
   "metadata": {
    "collapsed": true
   },
   "outputs": [],
   "source": [
    "score = model.evaluate(X_test, Y_test, verbose=0)  \n",
    "print('Test score:', score[0])  \n",
    "print('Test accuracy:', score[1])  "
   ]
  }
 ],
 "metadata": {
  "kernelspec": {
   "display_name": "Python 2",
   "language": "python",
   "name": "python2"
  },
  "language_info": {
   "codemirror_mode": {
    "name": "ipython",
    "version": 2
   },
   "file_extension": ".py",
   "mimetype": "text/x-python",
   "name": "python",
   "nbconvert_exporter": "python",
   "pygments_lexer": "ipython2",
   "version": "2.7.13"
  }
 },
 "nbformat": 4,
 "nbformat_minor": 2
}
